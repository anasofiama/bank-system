{
 "cells": [
  {
   "cell_type": "code",
   "execution_count": 22,
   "metadata": {},
   "outputs": [],
   "source": [
    "from BankSystemOOP import PessoaFisica, ContaCorrente, Deposito, Saque"
   ]
  },
  {
   "cell_type": "code",
   "execution_count": 23,
   "metadata": {},
   "outputs": [],
   "source": [
    "#Instanciar um cliente\n",
    "cliente = PessoaFisica('Ana', '01/01/2001', '001.001.001-11', 'R. Incrivel, 100')"
   ]
  },
  {
   "cell_type": "code",
   "execution_count": 24,
   "metadata": {},
   "outputs": [
    {
     "name": "stdout",
     "output_type": "stream",
     "text": [
      "Saldo inicial: 0\n"
     ]
    }
   ],
   "source": [
    "#Adicionar uma nova conta\n",
    "cliente.adicionar_conta(ContaCorrente(1,cliente))\n",
    "#Exibir informações iniciais do cliente\n",
    "print(f'Saldo inicial: {cliente.contas[0].saldo}')"
   ]
  },
  {
   "cell_type": "code",
   "execution_count": 25,
   "metadata": {},
   "outputs": [
    {
     "name": "stdout",
     "output_type": "stream",
     "text": [
      "\n",
      "=== Depósito realizado com sucesso! ===\n",
      "2024-09-08 11:36:19.059387-03:00\n",
      "Saldo após depósito: 2000.5\n"
     ]
    }
   ],
   "source": [
    "#Instanciar as transações desejadas e realizá-las\n",
    "deposito = Deposito(2000.50)\n",
    "cliente.realizar_transacao(cliente.contas[0],deposito)\n",
    "#Exibir saldo\n",
    "print(f'Saldo após depósito: {round(cliente.contas[0].saldo,2)}')"
   ]
  },
  {
   "cell_type": "code",
   "execution_count": 27,
   "metadata": {},
   "outputs": [
    {
     "name": "stdout",
     "output_type": "stream",
     "text": [
      "\n",
      "=== Saque realizado com sucesso! ===\n",
      "2024-09-08 11:36:25.919460-03:00\n",
      "Saldo após saque: 1900.4\n"
     ]
    }
   ],
   "source": [
    "saque = Saque(100.10)\n",
    "cliente.realizar_transacao(cliente.contas[0],saque)\n",
    "#Exibir saldo\n",
    "print(f'Saldo após saque: {round(cliente.contas[0].saldo,2)}')"
   ]
  },
  {
   "cell_type": "code",
   "execution_count": 28,
   "metadata": {},
   "outputs": [
    {
     "name": "stdout",
     "output_type": "stream",
     "text": [
      "\n",
      "@@@ Operação falhou! O valor do saque excede o limite. @@@\n",
      "Saldo após saque: 1900.4\n"
     ]
    }
   ],
   "source": [
    "#Testando o valor máximo de saque\n",
    "saque = Saque(1000.10)\n",
    "cliente.realizar_transacao(cliente.contas[0],saque)\n",
    "#Exibir saldo\n",
    "print(f'Saldo após saque: {round(cliente.contas[0].saldo,2)}')"
   ]
  },
  {
   "cell_type": "code",
   "execution_count": 29,
   "metadata": {},
   "outputs": [
    {
     "name": "stdout",
     "output_type": "stream",
     "text": [
      "\n",
      "=== Saque realizado com sucesso! ===\n",
      "2024-09-08 11:36:50.479455-03:00\n",
      "\n",
      "=== Saque realizado com sucesso! ===\n",
      "2024-09-08 11:36:50.479455-03:00\n",
      "\n",
      "@@@ Operação falhou! Número máximo de saques excedido. @@@\n",
      "\n",
      "@@@ Operação falhou! Número máximo de saques excedido. @@@\n",
      "Saldo após saque: 1700.4\n"
     ]
    }
   ],
   "source": [
    "#Testando o limite de saques\n",
    "saque = Saque(100)\n",
    "for i in range(4):\n",
    "    cliente.realizar_transacao(cliente.contas[0],saque)\n",
    "print(f'Saldo após saque: {round(cliente.contas[0].saldo,2)}')"
   ]
  }
 ],
 "metadata": {
  "kernelspec": {
   "display_name": "Python 3",
   "language": "python",
   "name": "python3"
  },
  "language_info": {
   "codemirror_mode": {
    "name": "ipython",
    "version": 3
   },
   "file_extension": ".py",
   "mimetype": "text/x-python",
   "name": "python",
   "nbconvert_exporter": "python",
   "pygments_lexer": "ipython3",
   "version": "3.10.7"
  }
 },
 "nbformat": 4,
 "nbformat_minor": 2
}
